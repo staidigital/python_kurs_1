{
 "cells": [
  {
   "cell_type": "markdown",
   "metadata": {},
   "source": [
    "## Python-kurs 1\n",
    "Velkommen til ditt første Python-kurs! Python er et relativt minimalistisk programmeringsspråk med enkel syntaks. \n",
    "\n",
    "I første omgang kan du tenke at programmene dine kjører fra øverst til nederst; linje for linje. "
   ]
  },
  {
   "cell_type": "markdown",
   "metadata": {},
   "source": [
    "## Del 1: Printing, variabler og datatyper"
   ]
  },
  {
   "cell_type": "markdown",
   "metadata": {},
   "source": [
    "### Print-funksjonen\n",
    "Veldig ofte når vi programmerer, har vi et behov for å se hva resultatet av koden vår ble. En rask måte å gjøre det på, er å bruke Print-funksjonen i Python. Den \"printer\" rett og slett det vi skriver. Prøv med koden under! Du kjører koden ved å trykke på den lille play-knappen til venstre for kodefeltet. "
   ]
  },
  {
   "cell_type": "code",
   "execution_count": 1,
   "metadata": {},
   "outputs": [
    {
     "name": "stdout",
     "output_type": "stream",
     "text": [
      "Wow, Python er kult!\n"
     ]
    }
   ],
   "source": [
    "print(\"Wow, Python er kult!\")"
   ]
  },
  {
   "cell_type": "markdown",
   "metadata": {},
   "source": [
    "Fullfør koden under for å printe en egendefinert melding. "
   ]
  },
  {
   "cell_type": "code",
   "execution_count": 2,
   "metadata": {},
   "outputs": [
    {
     "name": "stdout",
     "output_type": "stream",
     "text": [
      " \n"
     ]
    }
   ],
   "source": [
    "print(\" \")"
   ]
  },
  {
   "cell_type": "markdown",
   "metadata": {},
   "source": [
    "I programmeringsverden kaller vi tekst for ___strenger___. Vi kan printe flere strenger ved å bruke komma- eller plusstegnet. Når vi brukker komma, blir det automatisk et mellomrom mellom strengene. Plusstegnet derimot slår de sammen uten mellomrom."
   ]
  },
  {
   "cell_type": "code",
   "execution_count": 3,
   "metadata": {},
   "outputs": [
    {
     "name": "stdout",
     "output_type": "stream",
     "text": [
      "Nå printer jeg både dette og dette!\n",
      "banankake\n"
     ]
    }
   ],
   "source": [
    "print(\"Nå printer jeg både dette\", \"og dette!\")\n",
    "print(\"banan\"+\"kake\")"
   ]
  },
  {
   "cell_type": "markdown",
   "metadata": {},
   "source": [
    "Riktignok, når vi bruker komma, selv om mellomrom mellom strengene er standard, så kan vi selv bestemme hva kommaet skal gjøre. Vi kan f.eks. si at python skal printe en ny linje for hvert komma hvis vi gjør slik:"
   ]
  },
  {
   "cell_type": "code",
   "execution_count": 4,
   "metadata": {},
   "outputs": [
    {
     "name": "stdout",
     "output_type": "stream",
     "text": [
      "Sondre\n",
      "Jens\n",
      "Erlend\n",
      "Juan\n"
     ]
    }
   ],
   "source": [
    "print(\"Sondre\", \"Jens\", \"Erlend\", \"Juan\", sep=\"\\n\")"
   ]
  },
  {
   "cell_type": "markdown",
   "metadata": {},
   "source": [
    "### Variabler\n",
    "Variabler er et utrolig kraftig og nyttig prinsipp innen måte matematikk og programmering. Det gjør at  vi kan lagre verdier med et navn, slik at vi kan kalle på de senere, manipulere de og mye mye mer. \n",
    "\n",
    "I Python er syntaksen for å lage en variabel ganske enkel. Først skriver man hva man ønsker å kalle variabelen, deretter gir man den en verdi; slik som dette:\n",
    "\n",
    "```navn = \"Ola\" ```\n"
   ]
  },
  {
   "cell_type": "markdown",
   "metadata": {},
   "source": [
    "Legg merke til at selve navnet på variabelen ikker har hermetegn rundt seg, men det har teksten vi ønsker å lagre til variabelen. \n",
    "\n",
    "Nå vil programmet husket at jeg har lagret \"Ola\" til variabelen ```navn```, som vil si at neste gang jeg skriver ```navn```, så skjønner programmet at jeg mener \"Ola\". Prøv å kjør programmet under: "
   ]
  },
  {
   "cell_type": "code",
   "execution_count": 5,
   "metadata": {},
   "outputs": [
    {
     "name": "stdout",
     "output_type": "stream",
     "text": [
      "Hei, jeg heter Sondre\n"
     ]
    }
   ],
   "source": [
    "navn = \"Sondre\"\n",
    "print(\"Hei, jeg heter\", navn)"
   ]
  },
  {
   "cell_type": "markdown",
   "metadata": {},
   "source": [
    "Prøv å lage din egen variabel i kodefeltet under og print variabelen på en eller annen måte. "
   ]
  },
  {
   "cell_type": "code",
   "execution_count": 6,
   "metadata": {},
   "outputs": [
    {
     "data": {
      "text/plain": [
       "'Skriv koden din her'"
      ]
     },
     "execution_count": 6,
     "metadata": {},
     "output_type": "execute_result"
    }
   ],
   "source": [
    "'''Skriv koden din her'''"
   ]
  },
  {
   "cell_type": "markdown",
   "metadata": {},
   "source": [
    "Vi kan sette verdien på flere variabler samtidig:"
   ]
  },
  {
   "cell_type": "code",
   "execution_count": 7,
   "metadata": {},
   "outputs": [
    {
     "name": "stdout",
     "output_type": "stream",
     "text": [
      "1\n",
      "2\n"
     ]
    }
   ],
   "source": [
    "a, b = 1, 2\n",
    "print(a)\n",
    "print(b)"
   ]
  },
  {
   "cell_type": "markdown",
   "metadata": {},
   "source": [
    "Det er mulig å gi en ny variabel verdien til en annen variabel, men merk at dersom du senere skulle endre på den første variabelen blir ikke den andre endret på. F.eks."
   ]
  },
  {
   "cell_type": "code",
   "execution_count": 8,
   "metadata": {},
   "outputs": [
    {
     "name": "stdout",
     "output_type": "stream",
     "text": [
      "1\n"
     ]
    }
   ],
   "source": [
    "a = 1\n",
    "b = a\n",
    "a = 2\n",
    "print(b)"
   ]
  },
  {
   "cell_type": "markdown",
   "metadata": {},
   "source": [
    "Så i eksempelet over ser vi at ```b``` beholder verdien ```a``` hadde da vi satte lagde den. "
   ]
  },
  {
   "cell_type": "markdown",
   "metadata": {},
   "source": [
    "### Datatyper\n",
    "Vi kan lagre flere forskjellige typer data til en variabel. \n",
    "\n",
    "#### Strings\n",
    "En av de vanligste er strenger, altså helt vanlig tekst. Når vi skal lagre tekst til en variabel er det viktig å bruke hermetegn rundt teksten, hvis ikke tror Python at vi refererer til en variabel. \n",
    "\n",
    "```variabel = \"en tekst\"```\n",
    "\n",
    "### Integers\n",
    "Rett og slett klassiske heltall, 1,2,3,4... osv. \n",
    "\n",
    "### Float\n",
    "En float er det vi kaller \"flyttall\" på norsk, og da snakker vi altså om desimaltall. F.eks. 3.14. Obs: I Python må vi bruke punktum istedenfor komma når vi lager desimaltall. \n",
    "\n",
    "Ettersom vi kan lagre tall kan vi selvfølgelig gjøre litt matematikk i Python. Obs: dobbelt gangetegn betyr \"opphøyd i\", altså en potens. "
   ]
  },
  {
   "cell_type": "code",
   "execution_count": 9,
   "metadata": {},
   "outputs": [
    {
     "name": "stdout",
     "output_type": "stream",
     "text": [
      "6\n",
      "8\n",
      "10\n",
      "5.0\n",
      "32\n"
     ]
    }
   ],
   "source": [
    "print(1 + 5)\n",
    "print(10 - 2)\n",
    "print(2 * 5)\n",
    "print(10 / 2)\n",
    "print(2 ** 5)"
   ]
  },
  {
   "cell_type": "markdown",
   "metadata": {},
   "source": [
    "### Boolean\n",
    "En boolean er en litt annerledes datatype, og kan kun ha to mulige verdier: ```True``` eller ```False```. Disse blir veldig nyttige senere når vi skal lære om betingelser. "
   ]
  },
  {
   "cell_type": "markdown",
   "metadata": {},
   "source": [
    "## Del 2: Betingelser: "
   ]
  },
  {
   "cell_type": "markdown",
   "metadata": {},
   "source": [
    "Med betingelser vil programmet bare utføre spesifikke handlinger dersom betingelsene er `True` eller `False`. \n",
    "\n",
    "Dette gjøres med `if...else`-setninger. Eksempelet nedenfor viser hvordan dette fungerer. Vi skal se nærmere på dette senere, men se om du forstår hva som skjer i koden."
   ]
  },
  {
   "cell_type": "code",
   "execution_count": null,
   "metadata": {},
   "outputs": [],
   "source": [
    "alder = 16\n",
    "if alder >= 18:\n",
    "    print(\"Du er myndig!\")\n",
    "else:\n",
    "    print(\"Du er ikke myndig!\")"
   ]
  },
  {
   "cell_type": "markdown",
   "metadata": {},
   "source": [
    "### Sammenligningsoperatorer:"
   ]
  },
  {
   "cell_type": "markdown",
   "metadata": {},
   "source": [
    "Sammenligningsoperatorer brukes for å sammenligne variabler og verdier. I eksemplet over brukes sammenligningsoperatoren `>=` til å sjekke om verdien til `alder` er <i>større eller lik</i> `18`. \n",
    "\n",
    "Dersom sammenligningen er sann, vil sammenligningsoperatoren gi `True`. Dersom sammenligningen er usann, vil den gi `False`. Nedenfor er en liste over de vanligste sammenligningsoperatorene:"
   ]
  },
  {
   "cell_type": "markdown",
   "metadata": {},
   "source": [
    "<table style=\"text-align: center\">\n",
    "    <tr>\n",
    "        <th>Operator</th>\n",
    "        <th>Forklaring</th>\n",
    "    </tr>\n",
    "    <tr>\n",
    "        <td><</td>\n",
    "        <td>Mindre enn</td>\n",
    "    </tr>\n",
    "    <tr>\n",
    "        <td>></td>\n",
    "        <td>Større enn</td>\n",
    "    </tr>\n",
    "    <tr>\n",
    "        <td>==</td>\n",
    "        <td>Lik</td>\n",
    "    </tr>\n",
    "    <tr>\n",
    "        <td>!=</td>\n",
    "        <td>Ulik</td>\n",
    "    </tr>\n",
    "    <tr>\n",
    "        <td>>=</td>\n",
    "        <td>Større eller lik</td>\n",
    "    </tr>\n",
    "    <tr>\n",
    "        <td><=</td>\n",
    "        <td>Mindre eller lik</td>\n",
    "    </tr>\n",
    "</table>"
   ]
  },
  {
   "cell_type": "markdown",
   "metadata": {},
   "source": [
    "Programmet nedenfor viser situasjoner hvor sammenligningsoperatoren gir `True` eller `False`. Prøv å endre på verdiene til `a` og `b`, for å se hva som skjer."
   ]
  },
  {
   "cell_type": "code",
   "execution_count": 29,
   "metadata": {},
   "outputs": [
    {
     "name": "stdout",
     "output_type": "stream",
     "text": [
      "False\n",
      "True\n",
      "True\n",
      "True\n",
      "False\n",
      "False\n"
     ]
    }
   ],
   "source": [
    "a = 5\n",
    "b = 10\n",
    "\n",
    "print(a == b)  \n",
    "print(a != b)  \n",
    "print(a < b)  \n",
    "print(a <= b)  \n",
    "print(a > b)   \n",
    "print(a >= b) "
   ]
  },
  {
   "cell_type": "markdown",
   "metadata": {},
   "source": [
    "Man kan og sammenligne andre typer data enn tall. For eksempel strings! Husk at `==` skiller på små og store bokstaver."
   ]
  },
  {
   "cell_type": "code",
   "execution_count": 30,
   "metadata": {},
   "outputs": [
    {
     "name": "stdout",
     "output_type": "stream",
     "text": [
      "False\n"
     ]
    }
   ],
   "source": [
    "navn_1 = \"Jens\"\n",
    "navn_2 = \"Sondre\"\n",
    "\n",
    "print(navn_1 == navn_2)\n"
   ]
  },
  {
   "cell_type": "markdown",
   "metadata": {},
   "source": [
    "### `if`-setning:"
   ]
  },
  {
   "cell_type": "markdown",
   "metadata": {},
   "source": [
    "Med en `if`-setning kjører vi en kodeblokk bare dersom en betingelse er `True`. "
   ]
  },
  {
   "cell_type": "markdown",
   "metadata": {},
   "source": [
    "<b>SYNTAX:</b><br><br>`if`-setninger skrives på følgende måte:\n",
    "\n",
    "```python\n",
    "if betingelse:\n",
    "    # Kodeblokk som skal utføres hvis betingelsen er sann\n",
    "```\n",
    "Merk at kodeblokken må være indentert (altså ha et innrykk). Dette er for at Python skal skjønne at koden hører til `if`-setningen."
   ]
  },
  {
   "cell_type": "markdown",
   "metadata": {},
   "source": [
    "<b>MULIGHETER:</b>\n",
    "* Hvis betingelsen er `True`, utføres koden i `if`-blokken.\n",
    "\n",
    "* Hvis betingelsen er `False`, hoppes koden i `if`-blokken over."
   ]
  },
  {
   "cell_type": "markdown",
   "metadata": {},
   "source": [
    "<b>EKSEMPEL:</b>"
   ]
  },
  {
   "cell_type": "code",
   "execution_count": 27,
   "metadata": {},
   "outputs": [
    {
     "name": "stdout",
     "output_type": "stream",
     "text": [
      "if-setninger er enkle\n"
     ]
    }
   ],
   "source": [
    "temperatur = 25 # Celsius\n",
    "if temperatur > 30:\n",
    "    print(\"Det er varmt ute!\") \n",
    "print(\"if-setninger er enkle\")"
   ]
  },
  {
   "cell_type": "markdown",
   "metadata": {},
   "source": [
    "I eksemplet ovenfor er `temperatur` ikke større enn 30, og koden inni `if`-blokken blir hoppet over. Prøv å endre på programmet slik at den utfører koden i `if`-blokken."
   ]
  },
  {
   "cell_type": "markdown",
   "metadata": {},
   "source": [
    "### `else`-setning"
   ]
  },
  {
   "cell_type": "markdown",
   "metadata": {},
   "source": [
    "`else` brukes ofte sammen med `if`, og sammen lager de det vi kaller en `if...else`-setning. Hvis betingelsen i `if`-setningen er `False`, blir koden inni `else`-blokken utført istedet. \n"
   ]
  },
  {
   "cell_type": "markdown",
   "metadata": {},
   "source": [
    "<b>SYNTAX:</b><br><br>\n",
    "`if...else`-setninger skrives på følgende måte:\n",
    "\n",
    "```python\n",
    "if betingelse: \n",
    "    # Kodeblokk som skal utføres hvis betingelsen er sann\n",
    "else: \n",
    "    # Kodeblokk som skal utføres hvis betingelsen er usann\n",
    "```\n"
   ]
  },
  {
   "cell_type": "markdown",
   "metadata": {},
   "source": [
    "<b>MULIGHETER</b>:\n",
    "* Hvis betingelsen er `True` blir koden i `if`-blokken utført, og koden i `else` blokken hoppes over. \n",
    "\n",
    "* Hvis betingelsen er `False` blir koden i `if`-blokken hoppet over, og koden i `else`-blokken utføres."
   ]
  },
  {
   "cell_type": "markdown",
   "metadata": {},
   "source": [
    "<b>EKSEMPEL:</b> "
   ]
  },
  {
   "cell_type": "code",
   "execution_count": 22,
   "metadata": {},
   "outputs": [
    {
     "name": "stdout",
     "output_type": "stream",
     "text": [
      "Du kan stemme!\n",
      "Denne koden kjører alltid\n"
     ]
    }
   ],
   "source": [
    "alder = 27\n",
    "if alder >= 18:\n",
    "    print(\"Du kan stemme!\")\n",
    "else:\n",
    "    print(\"Du kan ikke stemme ennå.\")\n",
    "    \n",
    "print(\"Denne koden kjører alltid\")"
   ]
  },
  {
   "cell_type": "markdown",
   "metadata": {},
   "source": [
    "I eksemplet ovenfor er `alder` større enn 18, og koden inni `if`-blokken blir kjørt. Koden i `else`-blokken blir hoppet over. \n",
    "\n",
    "røv å endre på koden slik at koden i `else`-blokken blir utført."
   ]
  },
  {
   "cell_type": "markdown",
   "metadata": {},
   "source": [
    "### `elif`-setning"
   ]
  },
  {
   "cell_type": "markdown",
   "metadata": {},
   "source": [
    "`if...else` fungerer når man bare skal skille mellom to alternativer. Noen ganger derimot skal programmet gjøre valg hvor det er mer enn to alternativer. \n",
    "\n",
    "Da bruker vi `if...elif...else`-setninger. Nedenfor er et eksempel med tre alternativer. Vi kan tilføre så mange `elif`-setninger vi vil i en kode."
   ]
  },
  {
   "cell_type": "markdown",
   "metadata": {},
   "source": [
    "<b>SYNTAX:</b><br><br>\n",
    "Vi skriver `if...elif...else`-setninger på følgende måte:\n",
    "\n",
    "```python\n",
    "if betingelse1:\n",
    "    # Kodeblokk som skal utføres hvis betingelse1 er sann\n",
    "elif betingelse2:\n",
    "    # Kodeblokk som skal utføres hvis betingelse1 er usann mens betingelse2 er sann\n",
    "else: \n",
    "    # Kodeblokk som skal utføres hvis ingen av betingelsene er sanne\n",
    "```"
   ]
  },
  {
   "cell_type": "markdown",
   "metadata": {},
   "source": [
    "<b>MULIGHETER</b>:\n",
    "* Hvis `betingelse1` er `True` blir koden i `if`-blokken utført, og koden i `elif`-blokken og `else`-blokken hoppes over.\n",
    "\n",
    "* Hvis `betingelse1` er `False`, sjekkes `betingelse2`. Hvis `betingelse2` er `True`, blir koden i `elif`-blokken utført, og koden i `else`-blokken hoppes over.\n",
    "\n",
    "* Hvis alle betingelsene er `False`, blir koden i `else`-blokken utført.\n"
   ]
  },
  {
   "cell_type": "markdown",
   "metadata": {},
   "source": [
    "<b>EKSEMPEL:</b>"
   ]
  },
  {
   "cell_type": "code",
   "execution_count": null,
   "metadata": {},
   "outputs": [],
   "source": [
    "karakterscore = 75\n",
    "if karakterscore >= 90:\n",
    "    print(\"A\")\n",
    "elif karakterscore >= 80:\n",
    "    print(\"B\")\n",
    "elif karakterscore >= 70:\n",
    "    print(\"C\")\n",
    "else:\n",
    "    print(\"F\")\n",
    "    \n",
    "print(\"Programmet er ferdig\")"
   ]
  },
  {
   "cell_type": "markdown",
   "metadata": {},
   "source": [
    "Prøv å endre på koden over, slik at den følger det norske karaktersystemet, med karakterene 1, 2, 3, 4, 5 og 6. Bestem selv hvilke prosenter som gir hvilken karakter."
   ]
  },
  {
   "cell_type": "markdown",
   "metadata": {},
   "source": [
    "### Nøstede `if`-setninger"
   ]
  },
  {
   "cell_type": "markdown",
   "metadata": {},
   "source": [
    "Vi kan også ha en `if`-setning inne i en `if`-setning. Dette kalles en <i>nøstet</i> `if`-setning."
   ]
  },
  {
   "cell_type": "markdown",
   "metadata": {},
   "source": [
    "<b>SYNTAX:</b><br><br>\n",
    "```python\n",
    "#ytre if-setning\n",
    "if betingelse1: \n",
    "    #Kjører dersom betingelse1 er True \n",
    "    if betingelse2:\n",
    "        #Kjører dersom betingelse2 er True\n",
    "```"
   ]
  },
  {
   "cell_type": "markdown",
   "metadata": {},
   "source": [
    "<b>MULIGHETER:</b>\n",
    "\n",
    "* Den indre `if`-setningen kan også være en `if...else`-setning eller en `if...elif...else`-setning\n",
    "\n",
    "* Man kan legge til nøstede `if`-setninger til `elif`- og `else`-setninger \n",
    "\n",
    "* Man kan legge til flere lag med nøstede `if`-setninger inne i hverandre"
   ]
  },
  {
   "cell_type": "markdown",
   "metadata": {},
   "source": [
    "<b>EKSEMPEL 4:</b>"
   ]
  },
  {
   "cell_type": "code",
   "execution_count": 33,
   "metadata": {},
   "outputs": [
    {
     "name": "stdout",
     "output_type": "stream",
     "text": [
      "Du er myndig!\n",
      "Kjør forsiktig!\n"
     ]
    }
   ],
   "source": [
    "alder = 18\n",
    "harVitnemål = False\n",
    "harFørerkort = True\n",
    "\n",
    "if alder >= 18:\n",
    "    print(\"Du er myndig!\")\n",
    "    if harVitnemål:\n",
    "        print(\"Du kan studere!\")\n",
    "    if harFørerkort:\n",
    "        print(\"Kjør forsiktig!\")\n"
   ]
  },
  {
   "cell_type": "markdown",
   "metadata": {},
   "source": [
    "I eksemplet ovenfor har vi sjekket om alder er større eller lik 18. Hvis det er sant, har vi også sjekket om variabelen `harVitnemål` og `harFørerkort` er `True`.\n",
    "\n",
    "Prøv å sett inn noen `elif` eller `else`-setninger i koden over, slik at programmet skriver melding når betingelser er `False`."
   ]
  },
  {
   "cell_type": "markdown",
   "metadata": {},
   "source": [
    "### Logiske uttrykk"
   ]
  },
  {
   "cell_type": "markdown",
   "metadata": {},
   "source": [
    "Vi kan kombinere betingelser med `and`, `or` og `not`."
   ]
  },
  {
   "cell_type": "markdown",
   "metadata": {},
   "source": [
    "<table style=\"text-align: center\">\n",
    "    <tr>\n",
    "        <th>Operator</th>\n",
    "        <th>Forklaring</th>\n",
    "        <th>Sannhetsverdi</th>\n",
    "    </tr>\n",
    "    <tr>\n",
    "        <td>and </td>\n",
    "        <td>Logisk og</td>\n",
    "        <td>Gir True dersom begge sider er True</td>\n",
    "    </tr>\n",
    "    <tr>\n",
    "        <td>or</td>\n",
    "        <td>Logisk eller </td>\n",
    "        <td>Gir True dersom en av sidene er True</td>\n",
    "    </tr>\n",
    "    <tr>\n",
    "        <td>not</td>\n",
    "        <td>Logisk ikke, eller negasjon</td>\n",
    "        <td>Gir motsatt sannhetsverdi</td>\n",
    "    </tr>\n",
    "</table>"
   ]
  },
  {
   "cell_type": "markdown",
   "metadata": {},
   "source": [
    "<b>EKSEMPEL 5:</b> `and`"
   ]
  },
  {
   "cell_type": "code",
   "execution_count": 3,
   "metadata": {},
   "outputs": [
    {
     "name": "stdout",
     "output_type": "stream",
     "text": [
      "Både x og y er større enn 0\n"
     ]
    }
   ],
   "source": [
    "#programmet sjekker om tallet ligger i et intervall \n",
    "x = 5\n",
    "y = 10\n",
    "\n",
    "if x > 0 and y > 0:\n",
    "    print(\"Både x og y er større enn 0\")\n",
    "else:\n",
    "    print(\"Minst en av x eller y er ikke større enn 0\")"
   ]
  },
  {
   "cell_type": "markdown",
   "metadata": {},
   "source": [
    "Eksemplet ovenfor sjekker om `x` og `y` begge er større enn `0` på samme tid. \n",
    "\n",
    "Hvis begge testene gir `True`, skriver programmet ut koden i `if`-blokken. Dersom en av betingelsene er `False`, kjøres heller koden i `else`-blokken."
   ]
  },
  {
   "cell_type": "markdown",
   "metadata": {},
   "source": [
    "<b>EKSEMPEL 6: </b> `or`"
   ]
  },
  {
   "cell_type": "code",
   "execution_count": 4,
   "metadata": {},
   "outputs": [
    {
     "name": "stdout",
     "output_type": "stream",
     "text": [
      "Minst et av tallene x og y er større enn 0\n"
     ]
    }
   ],
   "source": [
    "#programmet sjekker om tallet ligger i et intervall \n",
    "x = -5\n",
    "y = 5\n",
    "\n",
    "if x > 0 or y > 0:\n",
    "    print(\"Minst et av tallene x og y er større enn 0\")\n",
    "else:\n",
    "    print(\"Verken x eller y er større enn 0\")"
   ]
  },
  {
   "cell_type": "markdown",
   "metadata": {},
   "source": [
    "Eksemplet nedenfor sjekker om minst en av `x` og `y` er større enn `0`.\n",
    "\n",
    "Hvis en av testene gir `True`, skriver programmet ut koden i `if`-blokken. Dersom begge betingelsene er `False`, kjøres heller koden i `else`-blokken."
   ]
  },
  {
   "cell_type": "markdown",
   "metadata": {},
   "source": [
    "### Oppgaver"
   ]
  },
  {
   "cell_type": "markdown",
   "metadata": {},
   "source": [
    "<b>Oppgave 1: </b>Ta inn to tall der du sjekker om det andre er større enn det første i en variabel. Skriv ut resultatet av sjekken.\n"
   ]
  },
  {
   "cell_type": "markdown",
   "metadata": {},
   "source": [
    "<b>Oppgave 2: </b>Sjekk om 50/3 er større enn 20, og print ut fornuftige resultater.\n"
   ]
  },
  {
   "cell_type": "markdown",
   "metadata": {},
   "source": [
    "<b>Oppgave 3:</b> Lag en nøstet if-setning. Den skal først sjekke om en variabel er positivt, negativt eller 0. "
   ]
  },
  {
   "cell_type": "markdown",
   "metadata": {},
   "source": [
    "<b>Oppgave 4: </b> Adgang til en nattklubb\n",
    "\n",
    "Du har fått i oppdrag å lage et adgangssystem for en nattklubb. Nattklubben har følgende adgangsregler:\n",
    "\n",
    "1. Gjester under 18 år har ikke adgang.\n",
    "2. Gjester mellom 18 og 20 år har adgang kun hvis de er med en voksen (over 30 år).\n",
    "3. Gjester som er 21 år eller eldre har adgang uten restriksjoner.\n",
    "\n",
    "Skriv et Python-program som spør brukeren om alderen deres og om de er sammen med en voksen. Deretter, ved hjelp av \"and\" og \"or\" betingelser, bestemmer programmet om de får adgang til nattklubben."
   ]
  },
  {
   "cell_type": "markdown",
   "metadata": {},
   "source": [
    "Eksempel på bruk:\n",
    "```bash\n",
    "\n",
    "Skriv inn din alder: 17\n",
    "Er du sammen med en voksen? (Skriv 'ja' eller 'nei'): nei\n",
    "Beklager, du har ikke adgang til nattklubben.\n",
    "\n",
    "Skriv inn din alder: 19\n",
    "Er du sammen med en voksen? (Skriv 'ja' eller 'nei'): ja\n",
    "Du har adgang til nattklubben.\n",
    "\n",
    "Skriv inn din alder: 25\n",
    "Er du sammen med en voksen? (Skriv 'ja' eller 'nei'): nei\n",
    "Du har adgang til nattklubben.\n",
    "```"
   ]
  },
  {
   "cell_type": "markdown",
   "metadata": {},
   "source": [
    "## Løkker (Sondre)"
   ]
  },
  {
   "cell_type": "markdown",
   "metadata": {},
   "source": [
    "lorem ipsum"
   ]
  },
  {
   "cell_type": "markdown",
   "metadata": {},
   "source": [
    "## Funksjoner"
   ]
  },
  {
   "cell_type": "markdown",
   "metadata": {},
   "source": [
    "En funksjon er en kodebit som du kan kalle på for å utføre en oppgave. Det er som et lite program som du kan bruke i ditt større program. Det er en måte å organisere og strukturere koden din på, slik at du ikke trenger å skrive samme kode om og om igjen."
   ]
  },
  {
   "cell_type": "markdown",
   "metadata": {},
   "source": [
    "Funksjoner tar oftest inn noe data, prosesserer dataen, og returner resultatet. Den mest kjente funksjonen er print(), som vi kjenner godt."
   ]
  }
 ],
 "metadata": {
  "kernelspec": {
   "display_name": "Python 3.11.0 64-bit",
   "language": "python",
   "name": "python3"
  },
  "language_info": {
   "codemirror_mode": {
    "name": "ipython",
    "version": 3
   },
   "file_extension": ".py",
   "mimetype": "text/x-python",
   "name": "python",
   "nbconvert_exporter": "python",
   "pygments_lexer": "ipython3",
   "version": "3.11.0"
  },
  "vscode": {
   "interpreter": {
    "hash": "aee8b7b246df8f9039afb4144a1f6fd8d2ca17a180786b69acc140d282b71a49"
   }
  }
 },
 "nbformat": 4,
 "nbformat_minor": 2
}
