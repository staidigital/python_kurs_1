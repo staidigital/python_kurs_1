{
 "cells": [
  {
   "cell_type": "markdown",
   "metadata": {},
   "source": [
    "## Python-kurs 1\n",
    "Velkommen til ditt første Python-kurs! Python er et relativt minimalistisk programmeringsspråk med enkel syntaks. \n",
    "\n",
    "I første omgang kan du tenke at programmene dine kjører fra øverst til nederst; linje for linje. "
   ]
  },
  {
   "cell_type": "markdown",
   "metadata": {},
   "source": [
    "### Print-funksjonen\n",
    "Veldig ofte når vi programmerer, har vi et behov for å se hva resultatet av koden vår ble. En rask måte å gjøre det på, er å bruke Print-funksjonen i Python. Den \"printer\" rett og slett det vi skriver. Prøv med koden under! Du kjører koden ved å trykke på den lille play-knappen til venstre for kodefeltet. "
   ]
  },
  {
   "cell_type": "code",
   "execution_count": null,
   "metadata": {},
   "outputs": [],
   "source": [
    "print(\"Wow, Python er kult!\")"
   ]
  },
  {
   "cell_type": "markdown",
   "metadata": {},
   "source": [
    "Fullfør koden under for å printe en egendefinert melding. "
   ]
  },
  {
   "cell_type": "code",
   "execution_count": null,
   "metadata": {},
   "outputs": [],
   "source": [
    "print(\" \")"
   ]
  },
  {
   "cell_type": "markdown",
   "metadata": {},
   "source": [
    "I programmeringsverden kaller vi tekst for ___strenger___. Vi kan printe flere strenger ved å bruke komma- eller plusstegnet. Når vi brukker komma, blir det automatisk et mellomrom mellom strengene. Plusstegnet derimot slår de sammen uten mellomrom."
   ]
  },
  {
   "cell_type": "code",
   "execution_count": null,
   "metadata": {},
   "outputs": [],
   "source": [
    "print(\"Nå printer jeg både dette\", \"og dette!\")\n",
    "print(\"banan\"+\"kake\")"
   ]
  },
  {
   "cell_type": "markdown",
   "metadata": {},
   "source": [
    "Riktignok, når vi bruker komma, selv om mellomrom mellom strengene er standard, så kan vi selv bestemme hva kommaet skal gjøre. Vi kan f.eks. si at python skal printe en ny linje for hvert komma hvis vi gjør slik:"
   ]
  },
  {
   "cell_type": "code",
   "execution_count": null,
   "metadata": {},
   "outputs": [],
   "source": [
    "print(\"Sondre\", \"Jens\", \"Erlend\", \"Juan\", sep=\"\\n\")"
   ]
  },
  {
   "cell_type": "markdown",
   "metadata": {},
   "source": [
    "### Variabler\n",
    "Variabler er et utrolig kraftig og nyttig prinsipp innen måte matematikk og programmering. Det gjør at  vi kan lagre verdier med et navn, slik at vi kan kalle på de senere, manipulere de og mye mye mer. \n",
    "\n",
    "I Python er syntaksen for å lage en variabel ganske enkel. Først skriver man hva man ønsker å kalle variabelen, deretter gir man den en verdi; slik som dette:\n",
    "\n",
    "```navn = \"Ola\" ```\n"
   ]
  },
  {
   "cell_type": "markdown",
   "metadata": {},
   "source": [
    "Legg merke til at selve navnet på variabelen ikker har hermetegn rundt seg, men det har teksten vi ønsker å lagre til variabelen. \n",
    "\n",
    "Nå vil programmet husket at jeg har lagret \"Ola\" til variabelen ```navn```, som vil si at neste gang jeg skriver ```navn```, så skjønner programmet at jeg mener \"Ola\". Prøv å kjør programmet under: "
   ]
  },
  {
   "cell_type": "code",
   "execution_count": null,
   "metadata": {},
   "outputs": [],
   "source": [
    "navn = \"Sondre\"\n",
    "print(\"Hei, jeg heter\", navn)"
   ]
  },
  {
   "cell_type": "markdown",
   "metadata": {},
   "source": [
    "Prøv å lage din egen variabel i kodefeltet under og print variabelen på en eller annen måte. "
   ]
  },
  {
   "cell_type": "code",
   "execution_count": null,
   "metadata": {},
   "outputs": [],
   "source": [
    "'''Skriv koden din her'''"
   ]
  },
  {
   "cell_type": "markdown",
   "metadata": {},
   "source": [
    "Vi kan også be brukeren om å skrive inn navnet sitt selv ved å bruke input-funksjonen. Måten man bruker den på er slik: <br>\n",
    "```variabelnavn = input(\"still et spørsmål brukeren skal svare på\")```\n",
    "\n",
    "Da vil hva enn brukeren skriver inn bli lagret til variabelen din. Her er et eksempel: "
   ]
  },
  {
   "cell_type": "code",
   "execution_count": 1,
   "metadata": {},
   "outputs": [],
   "source": [
    "alder = input(\"Hvor gammel er du?\")\n",
    "print(\"Du er\", alder, \"år gammel\")"
   ]
  }
 ],
 "metadata": {
  "kernelspec": {
   "display_name": "Python 3",
   "language": "python",
   "name": "python3"
  },
  "language_info": {
   "codemirror_mode": {
    "name": "ipython",
    "version": 3
   },
   "file_extension": ".py",
   "mimetype": "text/x-python",
   "name": "python",
   "nbconvert_exporter": "python",
   "pygments_lexer": "ipython3",
   "version": "3.11.5"
  },
  "orig_nbformat": 4
 },
 "nbformat": 4,
 "nbformat_minor": 2
}
