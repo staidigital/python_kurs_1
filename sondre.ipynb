{
 "cells": [
  {
   "cell_type": "markdown",
   "metadata": {},
   "source": [
    "## Python-kurs 1\n",
    "Velkommen til ditt første Python-kurs! Python er et relativt minimalistisk programmeringsspråk med enkel syntaks. \n",
    "\n",
    "I første omgang kan du tenke at programmene dine kjører fra øverst til nederst; linje for linje. "
   ]
  },
  {
   "cell_type": "markdown",
   "metadata": {},
   "source": [
    "### Print-funksjonen\n",
    "Veldig ofte når vi programmerer, har vi et behov for å se hva resultatet av koden vår ble. En rask måte å gjøre det på, er å bruke Print-funksjonen i Python. Den \"printer\" rett og slett det vi skriver. Prøv med koden under! Du kjører koden ved å trykke på den lille play-knappen til venstre for kodefeltet. "
   ]
  },
  {
   "cell_type": "code",
   "execution_count": null,
   "metadata": {},
   "outputs": [],
   "source": [
    "print(\"Wow, Python er kult!\")"
   ]
  },
  {
   "cell_type": "markdown",
   "metadata": {},
   "source": [
    "Fullfør koden under for å printe en egendefinert melding. "
   ]
  },
  {
   "cell_type": "code",
   "execution_count": null,
   "metadata": {},
   "outputs": [],
   "source": [
    "print(\" \")"
   ]
  },
  {
   "cell_type": "markdown",
   "metadata": {},
   "source": [
    "I programmeringsverden kaller vi tekst for ___strenger___. Vi kan printe flere strenger ved å bruke komma- eller plusstegnet. Når vi brukker komma, blir det automatisk et mellomrom mellom strengene. Plusstegnet derimot slår de sammen uten mellomrom."
   ]
  },
  {
   "cell_type": "code",
   "execution_count": null,
   "metadata": {},
   "outputs": [],
   "source": [
    "print(\"Nå printer jeg både dette\", \"og dette!\")\n",
    "print(\"banan\"+\"kake\")"
   ]
  },
  {
   "cell_type": "markdown",
   "metadata": {},
   "source": [
    "Riktignok, når vi bruker komma, selv om mellomrom mellom strengene er standard, så kan vi selv bestemme hva kommaet skal gjøre. Vi kan f.eks. si at python skal printe en ny linje for hvert komma hvis vi gjør slik:"
   ]
  },
  {
   "cell_type": "code",
   "execution_count": null,
   "metadata": {},
   "outputs": [],
   "source": [
    "print(\"Sondre\", \"Jens\", \"Erlend\", \"Juan\", sep=\"\\n\")"
   ]
  },
  {
   "cell_type": "markdown",
   "metadata": {},
   "source": [
    "### Variabler\n",
    "Variabler er et utrolig kraftig og nyttig prinsipp innen måte matematikk og programmering. Det gjør at  vi kan lagre verdier med et navn, slik at vi kan kalle på de senere, manipulere de og mye mye mer. \n",
    "\n",
    "I Python er syntaksen for å lage en variabel ganske enkel. Først skriver man hva man ønsker å kalle variabelen, deretter gir man den en verdi; slik som dette:\n",
    "\n",
    "```navn = \"Ola\" ```\n"
   ]
  },
  {
   "cell_type": "markdown",
   "metadata": {},
   "source": [
    "Legg merke til at selve navnet på variabelen ikker har hermetegn rundt seg, men det har teksten vi ønsker å lagre til variabelen. \n",
    "\n",
    "Nå vil programmet husket at jeg har lagret \"Ola\" til variabelen ```navn```, som vil si at neste gang jeg skriver ```navn```, så skjønner programmet at jeg mener \"Ola\". Prøv å kjør programmet under: "
   ]
  },
  {
   "cell_type": "code",
   "execution_count": null,
   "metadata": {},
   "outputs": [],
   "source": [
    "navn = \"Sondre\"\n",
    "print(\"Hei, jeg heter\", navn)"
   ]
  },
  {
   "cell_type": "markdown",
   "metadata": {},
   "source": [
    "Prøv å lage din egen variabel i kodefeltet under og print variabelen på en eller annen måte. "
   ]
  },
  {
   "cell_type": "code",
   "execution_count": null,
   "metadata": {},
   "outputs": [],
   "source": [
    "'''Skriv koden din her'''"
   ]
  },
  {
   "cell_type": "markdown",
   "metadata": {},
   "source": [
    "Vi kan sette verdien på flere variabler samtidig:"
   ]
  },
  {
   "cell_type": "code",
   "execution_count": null,
   "metadata": {},
   "outputs": [],
   "source": [
    "a, b = 1, 2\n",
    "print(a)\n",
    "print(b)"
   ]
  },
  {
   "cell_type": "markdown",
   "metadata": {},
   "source": [
    "Det er mulig å gi en ny variabel verdien til en annen variabel, men merk at dersom du senere skulle endre på den første variabelen blir ikke den andre endret på. F.eks."
   ]
  },
  {
   "cell_type": "code",
   "execution_count": 1,
   "metadata": {},
   "outputs": [
    {
     "name": "stdout",
     "output_type": "stream",
     "text": [
      "1\n"
     ]
    }
   ],
   "source": [
    "a = 1\n",
    "b = a\n",
    "a = 2\n",
    "print(b)"
   ]
  },
  {
   "cell_type": "markdown",
   "metadata": {},
   "source": [
    "Så i eksempelet over ser vi at ```b``` beholder verdien ```a``` hadde da vi satte lagde den. "
   ]
  },
  {
   "cell_type": "markdown",
   "metadata": {},
   "source": [
    "### Datatyper\n",
    "Vi kan lagre flere forskjellige typer data til en variabel. \n",
    "\n",
    "#### Strings\n",
    "En av de vanligste er strenger, altså helt vanlig tekst. Når vi skal lagre tekst til en variabel er det viktig å bruke hermetegn rundt teksten, hvis ikke tror Python at vi refererer til en variabel. \n",
    "\n",
    "```variabel = \"en tekst\"```\n",
    "\n",
    "### Integers\n",
    "Rett og slett klassiske heltall, 1,2,3,4... osv. \n",
    "\n",
    "### Float\n",
    "En float er det vi kaller \"flyttall\" på norsk, og da snakker vi altså om desimaltall. F.eks. 3.14. Obs: I Python må vi bruke punktum istedenfor komma når vi lager desimaltall. \n",
    "\n",
    "Ettersom vi kan lagre tall kan vi selvfølgelig gjøre litt matematikk i Python. Obs: dobbelt gangetegn betyr \"opphøyd i\", altså en potens. "
   ]
  },
  {
   "cell_type": "code",
   "execution_count": null,
   "metadata": {},
   "outputs": [],
   "source": [
    "print(1 + 5)\n",
    "print(10 - 2)\n",
    "print(2 * 5)\n",
    "print(10 / 2)\n",
    "print(2 ** 5)"
   ]
  },
  {
   "cell_type": "markdown",
   "metadata": {},
   "source": [
    "### Boolean\n",
    "En boolean er en litt annerledes datatype, og kan kun ha to mulige verdier: ```True``` eller ```False```. Disse blir veldig nyttige senere når vi skal lære om betingelser. "
   ]
  }
 ],
 "metadata": {
  "kernelspec": {
   "display_name": "Python 3.11.0 64-bit",
   "language": "python",
   "name": "python3"
  },
  "language_info": {
   "codemirror_mode": {
    "name": "ipython",
    "version": 3
   },
   "file_extension": ".py",
   "mimetype": "text/x-python",
   "name": "python",
   "nbconvert_exporter": "python",
   "pygments_lexer": "ipython3",
   "version": "3.11.0"
  },
  "orig_nbformat": 4,
  "vscode": {
   "interpreter": {
    "hash": "aee8b7b246df8f9039afb4144a1f6fd8d2ca17a180786b69acc140d282b71a49"
   }
  }
 },
 "nbformat": 4,
 "nbformat_minor": 2
}
