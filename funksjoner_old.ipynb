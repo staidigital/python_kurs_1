{
 "cells": [
  {
   "cell_type": "markdown",
   "metadata": {},
   "source": [
    "## Del 3: Funksjoner"
   ]
  },
  {
   "cell_type": "markdown",
   "metadata": {},
   "source": [
    "En funksjon er en kodeblokk som bare kjører dersom man kaller på den. Når man skriver lengre programmer så kan koden bli mer organisert og lesbar dersom du har brukt funksjoner. Spesielt dersom du har gjentatt kode flere ganger, så kan det være lurt å lage en funksjon. Da slipper du å skrive den samme koden flere ganger, og du kan heller kalle på funksjonen når du trenger den."
   ]
  },
  {
   "cell_type": "markdown",
   "metadata": {},
   "source": [
    "<img src=\"https://webprosjekt1.w3spaces.com/dry.png\" height=250px>"
   ]
  },
  {
   "cell_type": "markdown",
   "metadata": {},
   "source": [
    "Å lage en funksjon i Python er enkelt. Du må bare velge et passende navn på funksjonen og gi funksjonen instrukser på hva som skal skje dersom den kalles på. \n",
    "\n",
    "Vi definerer funksjonen med nøkkelordet `def`, skriver deretter navnet med parentes og avslutter med kolon `:`. Instruksene som skal utføres må være innrykket. \n",
    "\n",
    "```python\n",
    "def funksjonsnavn():\n",
    "    # Instruksene som skal utføres\n",
    "```"
   ]
  },
  {
   "cell_type": "markdown",
   "metadata": {},
   "source": [
    "<b>Eksempel: </b>"
   ]
  },
  {
   "cell_type": "code",
   "execution_count": 12,
   "metadata": {},
   "outputs": [
    {
     "name": "stdout",
     "output_type": "stream",
     "text": [
      "Hei, dette er min første funksjon!\n",
      "Den printer bare ut denne teksten.\n"
     ]
    }
   ],
   "source": [
    "#definerer en funksjon\n",
    "def min_første_funksjon():\n",
    "    print(\"Hei, dette er min første funksjon!\")\n",
    "    print(\"Den printer bare ut denne teksten.\")\n",
    "\n",
    "#kaller på funksjonen\n",
    "min_første_funksjon()"
   ]
  },
  {
   "cell_type": "markdown",
   "metadata": {},
   "source": [
    "Det er også mulighet å gi funksjonen en eller flere `parametere`. Dette er variabler som funksjonen kan bruke, og skrives i parentesen under defineringen. Når man kaller på funksjonen skriver man inn hva verdien til variabelen er. \n",
    "\n",
    "Si at vi skal lage en funksjon som hilser folk velkommen. Det kan gjøres på denne måten. Merk bruk av \"f-streng\" i printingen!"
   ]
  },
  {
   "cell_type": "code",
   "execution_count": 11,
   "metadata": {},
   "outputs": [
    {
     "name": "stdout",
     "output_type": "stream",
     "text": [
      "Velkommen, Jens!\n",
      "Velkommen, Sondre!\n",
      "Velkommen, Erlend!\n",
      "Velkommen, Juan!\n"
     ]
    }
   ],
   "source": [
    "#definerer en funksjon\n",
    "def velkommen(navn):\n",
    "    print(f\"Velkommen, {navn}!\")\n",
    "\n",
    "#kaller på funksjonen\n",
    "velkommen(\"Jens\")\n",
    "velkommen(\"Sondre\")\n",
    "velkommen(\"Erlend\")\n",
    "velkommen(\"Juan\")"
   ]
  },
  {
   "cell_type": "markdown",
   "metadata": {},
   "source": [
    "Du kan legge til så mange parametre du vil, bare separer dem med `komma`. "
   ]
  },
  {
   "cell_type": "code",
   "execution_count": 13,
   "metadata": {},
   "outputs": [
    {
     "name": "stdout",
     "output_type": "stream",
     "text": [
      "Du heter Jens!\n",
      "Du er 27 år gammel!\n"
     ]
    }
   ],
   "source": [
    "def info_push(navn, alder):\n",
    "    print(f\"Du heter {navn} og er {alder} år gammel.\")\n",
    "\n",
    "info_push(\"Jens\", 27)\n"
   ]
  },
  {
   "cell_type": "markdown",
   "metadata": {},
   "source": [
    "<b>Oppgave: </b> Lag en funksjon `kalkulator` som har to tall som parametre. Funksjonen skal summere tallene og printe summen. Kall så på funksjonen."
   ]
  },
  {
   "cell_type": "code",
   "execution_count": null,
   "metadata": {},
   "outputs": [],
   "source": [
    "#Skriv koden her"
   ]
  },
  {
   "cell_type": "markdown",
   "metadata": {},
   "source": [
    "#### `Return` - nøkkelordet"
   ]
  },
  {
   "cell_type": "markdown",
   "metadata": {},
   "source": [
    "<i>What happens in a function, stays in a function.</i> Variabler som lages i en funksjon eksisterer ikke utenfor funksjonen. La oss illustrere konseptet:"
   ]
  },
  {
   "cell_type": "code",
   "execution_count": 15,
   "metadata": {},
   "outputs": [
    {
     "ename": "NameError",
     "evalue": "name 'x' is not defined",
     "output_type": "error",
     "traceback": [
      "\u001b[0;31m---------------------------------------------------------------------------\u001b[0m",
      "\u001b[0;31mNameError\u001b[0m                                 Traceback (most recent call last)",
      "Cell \u001b[0;32mIn[15], line 4\u001b[0m\n\u001b[1;32m      2\u001b[0m     x \u001b[39m=\u001b[39m \u001b[39m5\u001b[39m\n\u001b[1;32m      3\u001b[0m foo()\n\u001b[0;32m----> 4\u001b[0m \u001b[39mprint\u001b[39m(x)\n",
      "\u001b[0;31mNameError\u001b[0m: name 'x' is not defined"
     ]
    }
   ],
   "source": [
    "def foo():\n",
    "    x = 5\n",
    "foo()\n",
    "print(x)"
   ]
  },
  {
   "cell_type": "markdown",
   "metadata": {},
   "source": [
    "Eksemplet ovenfor viser at `x` eksisterer kun i funksjonen `foo` og kan ikke brukes utenfor funksjonen. Når du lager en variabel i en funksjon kalles variabelen en `lokal variabel`. Variabler som lages utenfor funksjoner kalles `globale variabler` og kan brukes overalt."
   ]
  },
  {
   "cell_type": "code",
   "execution_count": 23,
   "metadata": {},
   "outputs": [
    {
     "name": "stdout",
     "output_type": "stream",
     "text": [
      "0\n"
     ]
    }
   ],
   "source": [
    "x=0 #global variabel\n",
    "def foo():\n",
    "    x = 5 #lokal variabel\n",
    "foo() \n",
    "print(x)"
   ]
  },
  {
   "cell_type": "markdown",
   "metadata": {},
   "source": [
    "Variabelen `x` i `foo`-funksjonen er en annen `x` enn på utsiden! "
   ]
  },
  {
   "cell_type": "markdown",
   "metadata": {},
   "source": [
    "For å få tilgang til variabler som er laget i en funksjon, kan vi bruke nøkkelordet `return`. Dette gjør at funksjonen returnerer en verdi som kan brukes utenfor funksjonen."
   ]
  },
  {
   "cell_type": "code",
   "execution_count": 28,
   "metadata": {},
   "outputs": [
    {
     "name": "stdout",
     "output_type": "stream",
     "text": [
      "5\n"
     ]
    }
   ],
   "source": [
    "def foo():\n",
    "    x=5\n",
    "    return x \n",
    "\n",
    "x = foo()\n",
    "print(x)"
   ]
  },
  {
   "cell_type": "markdown",
   "metadata": {},
   "source": [
    "Dette er nyttig når du skal gjenbruke funksjonens resultater. \n",
    "\n",
    "I eksemplet nedenfor definerer vi funksjonen `areal` for rektangel, deretter beregner vi volumet av en kube ved å multiplisere rektanglets areal med høyden. Informasjonen gitt fra `areal` kan på denne måten brukes utenfor funksjonen. "
   ]
  },
  {
   "cell_type": "code",
   "execution_count": 40,
   "metadata": {},
   "outputs": [
    {
     "name": "stdout",
     "output_type": "stream",
     "text": [
      "Areal av rektangel: 50\n",
      "Volum av kube: 500\n"
     ]
    }
   ],
   "source": [
    "#Beregn rektanglets areal\n",
    "def areal(lengde, bredde):\n",
    "    return lengde*bredde\n",
    "\n",
    "lengde = 5\n",
    "bredde = 10\n",
    "høyde = 10\n",
    "\n",
    "areal_rektangel = areal(lengde, bredde)\n",
    "volum_kube = areal_rektangel*høyde\n",
    "\n",
    "print(f\"Areal av rektangel: {areal_rektangel}\")\n",
    "print(f\"Volum av kube: {volum_kube}\")"
   ]
  },
  {
   "cell_type": "markdown",
   "metadata": {},
   "source": [
    "<b>Oppgave: </b>Lag en funksjon som regner ut arealet av en sirkel med `radius` som parameter. \n",
    "\n",
    "Bruk funksjonens resultat til å regne ut volumet av en kule med samme `radius`."
   ]
  },
  {
   "cell_type": "code",
   "execution_count": null,
   "metadata": {},
   "outputs": [],
   "source": [
    "#Skriv koden her"
   ]
  },
  {
   "cell_type": "markdown",
   "metadata": {},
   "source": [
    "#### Oppgaver:"
   ]
  },
  {
   "cell_type": "markdown",
   "metadata": {},
   "source": [
    "<b>Oppgave 1:</b> Skriv en funksjon som tar et enkelt heltallparameter og skriver ut 'positiv' hvis tallet er større enn 0, og 'negativ' hvis tallet er mindre enn 0."
   ]
  },
  {
   "cell_type": "markdown",
   "metadata": {},
   "source": [
    "<b>Oppgave 2:</b> Skriv en funksjon som tar to heltallparametre og skriver ut 'equal' hvis de to tallene er like, 'greater' hvis det første tallet er større enn det andre, og 'smaller' hvis det første tallet er mindre enn det andre"
   ]
  },
  {
   "cell_type": "markdown",
   "metadata": {},
   "source": [
    "<b>Oppgave 3:</b> Skriv en funksjon som tar to heltallsparametre og enten returnerer summen, subtraksjonen og multiplikasjonen avhengig av bruker-input.\n"
   ]
  },
  {
   "cell_type": "markdown",
   "metadata": {},
   "source": [
    "<b>Oppgave 4:</b> Skriv en funksjon som tar tre heltallparametre og skriver ut summen av de tre tallene, etterfulgt av gjennomsnittet av de tre tallene."
   ]
  }
 ],
 "metadata": {
  "kernelspec": {
   "display_name": "Python 3.11.0 64-bit",
   "language": "python",
   "name": "python3"
  },
  "language_info": {
   "codemirror_mode": {
    "name": "ipython",
    "version": 3
   },
   "file_extension": ".py",
   "mimetype": "text/x-python",
   "name": "python",
   "nbconvert_exporter": "python",
   "pygments_lexer": "ipython3",
   "version": "3.11.0"
  },
  "orig_nbformat": 4,
  "vscode": {
   "interpreter": {
    "hash": "aee8b7b246df8f9039afb4144a1f6fd8d2ca17a180786b69acc140d282b71a49"
   }
  }
 },
 "nbformat": 4,
 "nbformat_minor": 2
}
