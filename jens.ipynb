{
 "cells": [
  {
   "cell_type": "markdown",
   "metadata": {},
   "source": [
    "## Conditionals: if, elif, else"
   ]
  },
  {
   "cell_type": "markdown",
   "metadata": {},
   "source": [
    "### If og else"
   ]
  },
  {
   "cell_type": "markdown",
   "metadata": {},
   "source": [
    "Hva tror du koden nedenfor gjør? Prøv å forutsi hva som printes før du kjører koden."
   ]
  },
  {
   "cell_type": "code",
   "execution_count": 3,
   "metadata": {},
   "outputs": [
    {
     "name": "stdout",
     "output_type": "stream",
     "text": [
      "Tallet 6 er større enn eller lik 5\n"
     ]
    }
   ],
   "source": [
    "tall = 6\n",
    "if tall < 5:\n",
    "    print(f\"Tallet {tall} er mindre enn 5\")\n",
    "else:\n",
    "    print(f\"Tallet {tall} er større enn eller lik 5\")"
   ]
  },
  {
   "cell_type": "markdown",
   "metadata": {},
   "source": [
    "Det du ser ovenfor er noe vi kaller <i>conditionals</i> i programmering. Det er en måte å sjekke om en påstand er sann eller ikke. I eksemplet ovenfor er påstanden at variabelen `tall` er mindre enn 5. Hvis det er sant, kjøres det som står under `if`-setningen. Hvis det er usant, kjøres det som står under `else`-setningen."
   ]
  },
  {
   "cell_type": "code",
   "execution_count": null,
   "metadata": {},
   "outputs": [],
   "source": []
  }
 ],
 "metadata": {
  "kernelspec": {
   "display_name": "Python 3.11.0 64-bit",
   "language": "python",
   "name": "python3"
  },
  "language_info": {
   "codemirror_mode": {
    "name": "ipython",
    "version": 3
   },
   "file_extension": ".py",
   "mimetype": "text/x-python",
   "name": "python",
   "nbconvert_exporter": "python",
   "pygments_lexer": "ipython3",
   "version": "3.11.0"
  },
  "orig_nbformat": 4,
  "vscode": {
   "interpreter": {
    "hash": "aee8b7b246df8f9039afb4144a1f6fd8d2ca17a180786b69acc140d282b71a49"
   }
  }
 },
 "nbformat": 4,
 "nbformat_minor": 2
}
