{
 "cells": [
  {
   "cell_type": "markdown",
   "metadata": {},
   "source": [
    "## Betingelser: if, elif, else"
   ]
  },
  {
   "cell_type": "markdown",
   "metadata": {},
   "source": [
    "Vi kan bruke betingelser som `if`, `elif` og `else` for å ta beslutninger i programmet vårt. Med betingelser vil programmet bare utføre spesifikke handlinger dersom betingelsene er sanne (`True`) eller usanne (`False`). "
   ]
  },
  {
   "cell_type": "markdown",
   "metadata": {},
   "source": [
    "### Relasjonsoperatorer:"
   ]
  },
  {
   "cell_type": "markdown",
   "metadata": {},
   "source": [
    "Med relasjonsoperatorer kan man sammenligne to uttrykk, og få et resultat som er enten `True` eller `False`. Dette brukes i `if...elif...else`-setninger for å bestemme hvilken kode som skal kjøres."
   ]
  },
  {
   "cell_type": "markdown",
   "metadata": {},
   "source": [
    "<table style=\"text-align: center\">\n",
    "    <tr>\n",
    "        <th>Operator</th>\n",
    "        <th>Forklaring</th>\n",
    "        <th>Eksempel</th>\n",
    "    </tr>\n",
    "    <tr>\n",
    "        <td><</td>\n",
    "        <td>Mindre enn</td>\n",
    "        <td>5 < 10</td>\n",
    "    </tr>\n",
    "    <tr>\n",
    "        <td>></td>\n",
    "        <td>Større enn</td>\n",
    "        <td>5 > 2</td>\n",
    "    </tr>\n",
    "    <tr>\n",
    "        <td>==</td>\n",
    "        <td>Lik</td>\n",
    "        <td>10 == 10</td>\n",
    "    </tr>\n",
    "    <tr>\n",
    "        <td>!=</td>\n",
    "        <td>Ikke lik</td>\n",
    "        <td>10 != 15</td>\n",
    "    </tr>\n",
    "    <tr>\n",
    "        <td>>=</td>\n",
    "        <td>Større eller lik</td>\n",
    "        <td>10 >= 2</td>\n",
    "    </tr>\n",
    "    <tr>\n",
    "        <td><=</td>\n",
    "        <td>Mindre eller lik</td>\n",
    "        <td>5 <= 10</td>\n",
    "    </tr>\n",
    "</table>"
   ]
  },
  {
   "cell_type": "markdown",
   "metadata": {},
   "source": [
    "### `if`-setning:"
   ]
  },
  {
   "cell_type": "markdown",
   "metadata": {},
   "source": [
    "Med en `if`-setning kjører vi en kodeblokk bare dersom en betingelse er `True`. "
   ]
  },
  {
   "cell_type": "markdown",
   "metadata": {},
   "source": [
    "<b>SYNTAX:</b><br><br>Vi skriver `if`-setninger på følgende måte:\n",
    "\n",
    "```python\n",
    "if betingelse:\n",
    "    # Kodeblokk som skal utføres hvis betingelsen er sann\n",
    "```\n",
    "Viktig å merke seg at vi bruker en kolon etter betingelsen, og koden som skal kjøres når betingelsen er sann, må være rykket inn."
   ]
  },
  {
   "cell_type": "markdown",
   "metadata": {},
   "source": [
    "<b>MULIGHETER:</b>\n",
    "* Hvis betingelsen er `True`, utføres koden i `if`-blokken.\n",
    "\n",
    "* Hvis betingelsen er `False`, hoppes koden i `if`-blokken over."
   ]
  },
  {
   "cell_type": "markdown",
   "metadata": {},
   "source": [
    "<b>EKSEMPEL 1:</b>"
   ]
  },
  {
   "cell_type": "code",
   "execution_count": 4,
   "metadata": {},
   "outputs": [
    {
     "name": "stdout",
     "output_type": "stream",
     "text": [
      "if-setninger er enkle\n"
     ]
    }
   ],
   "source": [
    "\n",
    "temperatur = 25 # Celsius\n",
    "if temperatur > 30:\n",
    "    print(\"Det er varmt ute!\") \n",
    "\n",
    "print(\"if-setninger er enkle\")"
   ]
  },
  {
   "cell_type": "markdown",
   "metadata": {},
   "source": [
    "I eksemplet ovenfor er `temperatur` ikke større enn 30, og koden inni `if`-blokken blir hoppet over. Deretter utføres resten av koden i programmet. Prøv å endre på programmet slik at den utfører koden i `if`-blokken."
   ]
  },
  {
   "cell_type": "markdown",
   "metadata": {},
   "source": [
    "### `else`-setning"
   ]
  },
  {
   "cell_type": "markdown",
   "metadata": {},
   "source": [
    "`else` brukes ofte sammen med `if`, og lager noe vi kaller en `if...else`-setning. Hvis betingelsen i `if`-setningen er usann, blir koden inni `else`-blokken utført istedet. \n"
   ]
  },
  {
   "cell_type": "markdown",
   "metadata": {},
   "source": [
    "<b>SYNTAX:</b><br><br>\n",
    "Vi skriver `if...else`-setninger på følgende måte:\n",
    "\n",
    "```python\n",
    "if betingelse: \n",
    "    # Kodeblokk som skal utføres hvis betingelsen er sann\n",
    "else: \n",
    "    # Kodeblokk som skal utføres hvis betingelsen er usann\n",
    "```\n"
   ]
  },
  {
   "cell_type": "markdown",
   "metadata": {},
   "source": [
    "<b>MULIGHETER</b>:\n",
    "* Hvis betingelsen er `True` blir koden i `if`-blokken utført, og koden i `else` blokken hoppes over. \n",
    "\n",
    "* Hvis betingelsen er `False` blir koden i `if`-blokken hoppet over, og koden i `else`-blokken utføres."
   ]
  },
  {
   "cell_type": "markdown",
   "metadata": {},
   "source": [
    "<b>EKSEMPEL 2:</b> "
   ]
  },
  {
   "cell_type": "code",
   "execution_count": 2,
   "metadata": {},
   "outputs": [
    {
     "name": "stdout",
     "output_type": "stream",
     "text": [
      "Du kan stemme!\n"
     ]
    }
   ],
   "source": [
    "alder = 16\n",
    "if alder >= 18:\n",
    "    print(\"Du kan stemme!\")\n",
    "else:\n",
    "    print(\"Du kan ikke stemme ennå.\")\n",
    "    \n",
    "print(\"Denne koden kjører alltid\")"
   ]
  },
  {
   "cell_type": "markdown",
   "metadata": {},
   "source": [
    "Her, fordi `alder` er satt til å være 16 er betingelsen i `if`-setningen `False`. Da blir koden inne i `else`-blokken utført. Deretter utføres resten av koden i programmet. Prøv å endre på koden slik at koden i `if`-blokken blir utført."
   ]
  },
  {
   "cell_type": "markdown",
   "metadata": {},
   "source": [
    "### `elif`-setning"
   ]
  },
  {
   "cell_type": "markdown",
   "metadata": {},
   "source": [
    "Når det er to alternativer så fungerer `if...else`-setninger bra. Men dersom man skal gjøre et valg mellom flere alternativer bruker vi `if...elif...else`-setninger. "
   ]
  },
  {
   "cell_type": "markdown",
   "metadata": {},
   "source": [
    "<b>SYNTAX:</b><br><br>\n",
    "Vi skriver `if...elif...else`-setninger på følgende måte:\n",
    "\n",
    "```python\n",
    "if betingelse1:\n",
    "    # Kodeblokk som skal utføres hvis betingelse1 er sann\n",
    "elif betingelse2:\n",
    "    # Kodeblokk som skal utføres hvis betingelse1 er usann mens betingelse2 er sann\n",
    "elif betingelse3: \n",
    "    # Kodeblokk som skal utføres hvis betingelse1 og betingelse2 er usann mens betingelse3 er sann\n",
    "else: \n",
    "    # Kodeblokk som skal utføres hvis betingelse1, betingelse 2 og betingelse2 er usanne\n",
    "```"
   ]
  },
  {
   "cell_type": "markdown",
   "metadata": {},
   "source": [
    "<b>MULIGHETER</b>:\n",
    "* Hvis `betingelse1` er `True` blir koden i `if`-blokken utført.\n",
    "\n",
    "* Hvis `betingelse1` er `False`, sjekkes `betingelse2`. Hvis `betingelse2` er `True`, blir koden i `elif`-blokken utført.\n",
    "\n",
    "* Hvis `betingelse1` og `betingelse2` er `False`, sjekkes `betingelse3`. Hvis `betingelse3` er `True`, blir koden i `elif`-blokken utført.@\n",
    "\n",
    "* Hvis `betingelse1` og `betingelse2` begge er `False`, blir koden i `else`-blokken utført.\n"
   ]
  },
  {
   "cell_type": "markdown",
   "metadata": {},
   "source": [
    "<b>EKSEMPEL 3:</b>"
   ]
  },
  {
   "cell_type": "code",
   "execution_count": null,
   "metadata": {},
   "outputs": [],
   "source": [
    "karakterscore = 75\n",
    "if karakterscore >= 90:\n",
    "    print(\"A\")\n",
    "elif karakterscore >= 80:\n",
    "    print(\"B\")\n",
    "elif karakterscore >= 70:\n",
    "    print(\"C\")\n",
    "else:\n",
    "    print(\"F\")\n",
    "    \n",
    "print(\"Programmet er ferdig\")"
   ]
  },
  {
   "cell_type": "markdown",
   "metadata": {},
   "source": [
    "Programmet ovenfor er et eksempel på en `if...elif...else`-setning. \n",
    "\n",
    "1. Først settes `karakterscore` til 75.\n",
    "\n",
    "2. Deretter sjekkes det om `karakterscore` er større eller lik 90. Dette er `False`, så koden i `if`-blokken hoppes over.\n",
    "\n",
    "3. Deretter sjekkes det om `karakterscore` er større eller lik 80. Dette er `False`, så koden i `elif`-blokken hoppes over.\n",
    "\n",
    "4. Deretter sjekkes det om `karakterscore` er større eller lik 70. Dette er `True`, så koden i `elif`-blokken blir utført.\n",
    "\n",
    "5. Til slutt printes \"Programmet er ferdig\""
   ]
  },
  {
   "cell_type": "markdown",
   "metadata": {},
   "source": [
    "Prøv å endre på koden over, slik at den følger det norske karaktersystemet, med karakterene 1, 2, 3, 4, 5 og 6. Bestem selv hvilke prosenter som gir hvilken karakter."
   ]
  },
  {
   "cell_type": "markdown",
   "metadata": {},
   "source": [
    "Man kan også bruke tekststrenger i `if...elif...else`-setninger. For eksempel: "
   ]
  },
  {
   "cell_type": "markdown",
   "metadata": {},
   "source": [
    "### Nøstede `if`-setninger"
   ]
  },
  {
   "cell_type": "markdown",
   "metadata": {},
   "source": [
    "Vi kan også ha en `if`-setning inne i en `if`-setning. Dette kalles en <i>nøstet</i> `if`-setning."
   ]
  },
  {
   "cell_type": "markdown",
   "metadata": {},
   "source": [
    "<b>SYNTAX:</b><br><br>\n",
    "```python\n",
    "#ytre if-setning\n",
    "if betingelse1: \n",
    "    #Kodeblokk som skal utføres dersom betingelse1 er sann.\n",
    "\n",
    "    #indre if-setning utføres bare dersom betingelse1 er sann\n",
    "    if betingelse2:\n",
    "        #Kodeblokk som skal utføres dersom betingelse2 er sann\n",
    "```"
   ]
  },
  {
   "cell_type": "markdown",
   "metadata": {},
   "source": [
    "<b>MULIGHETER:</b>\n",
    "* Man kan legge til `elif`- og `else`-setninger til den nøstede `if`-setningen\n",
    "\n",
    "* Man kan legge til nøstede `if`-setninger til `elif`- og `else`-setninger dersom man har det\n",
    "\n",
    "* Man kan legge til flere lag med nøstede `if`-setninger inne i hverandre"
   ]
  },
  {
   "cell_type": "markdown",
   "metadata": {},
   "source": [
    "<b>EKSEMPEL 4:</b>"
   ]
  },
  {
   "cell_type": "markdown",
   "metadata": {},
   "source": [
    "I eksemplet ovenfor har vi brukt en nøstet `if`-setning til å sjekke om et tall er 0, positivt eller negativt."
   ]
  },
  {
   "cell_type": "markdown",
   "metadata": {},
   "source": [
    "### Teste flere betingelser med \"Logiske uttrykk\""
   ]
  },
  {
   "cell_type": "markdown",
   "metadata": {},
   "source": [
    "Vi kan kombinere betingelser med `and`, `or` og `not`."
   ]
  },
  {
   "cell_type": "markdown",
   "metadata": {},
   "source": [
    "<table style=\"text-align: center\">\n",
    "    <tr>\n",
    "        <th>Operator</th>\n",
    "        <th>Forklaring</th>\n",
    "        <th>Sannhetsverdi</th>\n",
    "    </tr>\n",
    "    <tr>\n",
    "        <td>and </td>\n",
    "        <td>Logisk og</td>\n",
    "        <td>Gir True dersom begge sider er True</td>\n",
    "    </tr>\n",
    "    <tr>\n",
    "        <td>or</td>\n",
    "        <td>Logisk eller </td>\n",
    "        <td>Gir True dersom en av sidene er True</td>\n",
    "    </tr>\n",
    "    <tr>\n",
    "        <td>not</td>\n",
    "        <td>Logisk ikke, eller negasjon</td>\n",
    "        <td>Gir motsatt sannhetsverdi</td>\n",
    "    </tr>\n",
    "</table>"
   ]
  },
  {
   "cell_type": "markdown",
   "metadata": {},
   "source": [
    "<b>EKSEMPEL 5:</b> `and`"
   ]
  },
  {
   "cell_type": "markdown",
   "metadata": {},
   "source": [
    "Eksemplet nedenfor sjekker om `x` og `y` begge er større enn `0`. "
   ]
  },
  {
   "cell_type": "code",
   "execution_count": 3,
   "metadata": {},
   "outputs": [
    {
     "name": "stdout",
     "output_type": "stream",
     "text": [
      "Både x og y er større enn 0\n"
     ]
    }
   ],
   "source": [
    "#programmet sjekker om tallet ligger i et intervall \n",
    "x = 5\n",
    "y = 10\n",
    "\n",
    "if x > 0 and y > 0:\n",
    "    print(\"Både x og y er større enn 0\")\n",
    "else:\n",
    "    print(\"Minst en av x eller y er ikke større enn 0\")"
   ]
  },
  {
   "cell_type": "markdown",
   "metadata": {},
   "source": [
    "<b>EKSEMPEL 6: </b> `or`"
   ]
  },
  {
   "cell_type": "markdown",
   "metadata": {},
   "source": [
    "Eksemplet nedenfor sjekker om minst en av `x` og `y` er større enn `0`."
   ]
  },
  {
   "cell_type": "code",
   "execution_count": 4,
   "metadata": {},
   "outputs": [
    {
     "name": "stdout",
     "output_type": "stream",
     "text": [
      "Minst et av tallene x og y er større enn 0\n"
     ]
    }
   ],
   "source": [
    "#programmet sjekker om tallet ligger i et intervall \n",
    "x = -5\n",
    "y = 5\n",
    "\n",
    "if x > 0 or y > 0:\n",
    "    print(\"Minst et av tallene x og y er større enn 0\")\n",
    "else:\n",
    "    print(\"Verken x eller y er større enn 0\")"
   ]
  },
  {
   "cell_type": "code",
   "execution_count": 5,
   "metadata": {},
   "outputs": [
    {
     "name": "stdout",
     "output_type": "stream",
     "text": [
      "Det regner ikke\n"
     ]
    }
   ],
   "source": [
    "is_it_raining = False\n",
    "if is_it_raining:\n",
    "    print(\"Det regner\")\n",
    "else:\n",
    "    print(\"Det regner ikke\")"
   ]
  },
  {
   "cell_type": "markdown",
   "metadata": {},
   "source": [
    "### Text-adventure Game"
   ]
  },
  {
   "cell_type": "markdown",
   "metadata": {},
   "source": [
    "Vi skal fremover i kurset utvikle et text-adventure game. I denne delen skal vi lage en enkel versjon av spillet, som tar i bruk betingelser."
   ]
  },
  {
   "cell_type": "markdown",
   "metadata": {},
   "source": [
    "Et text-adventure spill er et tekstbasert spill som kjøres i Python-konsollen. Spilleren tar underveis beslutninger underveis som vil påvirke utfallet av spillet."
   ]
  },
  {
   "cell_type": "markdown",
   "metadata": {},
   "source": [
    "##### Oppgave 1: Lag en storyline"
   ]
  },
  {
   "cell_type": "markdown",
   "metadata": {},
   "source": [
    "Du skal lage storylinen til spillet, og det krever at man kjenner til rammene for spillet: \n",
    "\n",
    "* Minst 5 valg som brukeren må gjøre\n",
    "* Bruk `if...elif...else`-setninger til å gjøre valg\n",
    "* Ha en intro til spillet, som presenterer storylinen og introduserer karakteren\n",
    "* Ha en hoveddel og avslutning til spillet, som runder av storyen"
   ]
  },
  {
   "cell_type": "markdown",
   "metadata": {},
   "source": [
    "Bruk din kreative evne til å sette opp storylinen, og gjerne piler som viser de ulike grenene "
   ]
  },
  {
   "cell_type": "markdown",
   "metadata": {},
   "source": [
    "##### Oppgave 2: Implementer s"
   ]
  },
  {
   "cell_type": "code",
   "execution_count": null,
   "metadata": {},
   "outputs": [],
   "source": []
  }
 ],
 "metadata": {
  "kernelspec": {
   "display_name": "Python 3.11.0 64-bit",
   "language": "python",
   "name": "python3"
  },
  "language_info": {
   "codemirror_mode": {
    "name": "ipython",
    "version": 3
   },
   "file_extension": ".py",
   "mimetype": "text/x-python",
   "name": "python",
   "nbconvert_exporter": "python",
   "pygments_lexer": "ipython3",
   "version": "3.11.0"
  },
  "orig_nbformat": 4,
  "vscode": {
   "interpreter": {
    "hash": "aee8b7b246df8f9039afb4144a1f6fd8d2ca17a180786b69acc140d282b71a49"
   }
  }
 },
 "nbformat": 4,
 "nbformat_minor": 2
}
